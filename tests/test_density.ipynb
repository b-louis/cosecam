{
 "cells": [
  {
   "cell_type": "code",
   "execution_count": 1,
   "source": [
    "import cv2 as cv\r\n",
    "import numpy as np"
   ],
   "outputs": [],
   "metadata": {}
  },
  {
   "cell_type": "code",
   "execution_count": 253,
   "source": [
    "img = cv.imread('../../../outputs/tmp_rpc_001.tiff')\r\n",
    "points = np.loadtxt('../../../outputs/gcps_orb.txt',skiprows=1,delimiter=' ')"
   ],
   "outputs": [],
   "metadata": {}
  },
  {
   "cell_type": "code",
   "execution_count": 254,
   "source": [
    "image=np.copy(img)\r\n",
    "points = points[:,0:2].astype(int)\r\n",
    "for point in points:\r\n",
    "    p = tuple(point)\r\n",
    "    # print(point)\r\n",
    "    image = cv.circle(image, p, radius=10, color=(0, 0, 255), thickness=-1)\r\n",
    "cv.imwrite('E:/CodeClean/outputs/out_orb.png',image)"
   ],
   "outputs": [
    {
     "output_type": "execute_result",
     "data": {
      "text/plain": [
       "True"
      ]
     },
     "metadata": {},
     "execution_count": 254
    }
   ],
   "metadata": {}
  },
  {
   "cell_type": "code",
   "execution_count": 258,
   "source": [
    "img = cv.imread('../../../outputs/tmp_rpc_001.tiff')\r\n",
    "image=np.copy(img)\r\n",
    "points = np.loadtxt('../../../outputs/gcps_sift.txt',skiprows=1,delimiter=' ')\r\n",
    "points = points[:,0:2].astype(int)\r\n",
    "for point in points:\r\n",
    "    p = tuple(point)\r\n",
    "    # print(point)\r\n",
    "    image = cv.circle(image, p, radius=10, color=(0, 0, 255), thickness=-1)\r\n",
    "cv.imwrite('E:/CodeClean/outputs/out_sift.png',image)"
   ],
   "outputs": [
    {
     "output_type": "execute_result",
     "data": {
      "text/plain": [
       "True"
      ]
     },
     "metadata": {},
     "execution_count": 258
    }
   ],
   "metadata": {}
  },
  {
   "cell_type": "code",
   "execution_count": null,
   "source": [],
   "outputs": [],
   "metadata": {}
  }
 ],
 "metadata": {
  "orig_nbformat": 4,
  "language_info": {
   "name": "python",
   "version": "3.8.10",
   "mimetype": "text/x-python",
   "codemirror_mode": {
    "name": "ipython",
    "version": 3
   },
   "pygments_lexer": "ipython3",
   "nbconvert_exporter": "python",
   "file_extension": ".py"
  },
  "kernelspec": {
   "name": "python3",
   "display_name": "Python 3.8.10 64-bit ('base': conda)"
  },
  "interpreter": {
   "hash": "69fe59b5ddff86ae9819495312da5c17e531262343b10a8deb46b0301680d4d9"
  }
 },
 "nbformat": 4,
 "nbformat_minor": 2
}